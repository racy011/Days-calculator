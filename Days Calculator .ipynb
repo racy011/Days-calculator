{
 "cells": [
  {
   "cell_type": "code",
   "execution_count": 3,
   "id": "34c94963",
   "metadata": {},
   "outputs": [],
   "source": [
    "#importing statements\n",
    "from datetime import datetime\n",
    "from dateutil import relativedelta\n"
   ]
  },
  {
   "cell_type": "code",
   "execution_count": 4,
   "id": "86fb2422",
   "metadata": {},
   "outputs": [],
   "source": [
    "#Function to validate and convert date strings to datetime objects\n",
    "def convert_to_date(date_str):\n",
    "    formats = [\"%Y-%m-%d\", \"%d-%m-%Y\", \"%m/%d/%Y\", \"%B %d, %Y\"]  # Supported formats\n",
    "    for fmt in formats:\n",
    "        try:\n",
    "            return datetime.strptime(date_str, fmt)\n",
    "        except ValueError:\n",
    "            continue\n",
    "    return None\n"
   ]
  },
  {
   "cell_type": "code",
   "execution_count": 5,
   "id": "d8d671e7",
   "metadata": {},
   "outputs": [],
   "source": [
    "#function to check if a year is leap year\n",
    "def is_leap_year(year):\n",
    "    return year % 4 == 0 and (year % 100 != 0 or year % 400 == 0)\n"
   ]
  },
  {
   "cell_type": "code",
   "execution_count": 6,
   "id": "554e9761",
   "metadata": {},
   "outputs": [],
   "source": [
    "#function to calculate the number of days,weeks,months and years between two dates\n",
    "def calculate_date_difference(date1, date2):\n",
    "    delta_days = abs((date2 - date1).days)\n",
    "    delta = relativedelta.relativedelta(date2, date1)\n",
    "\n",
    "    years = abs(delta.years)\n",
    "    months = abs(delta.months)\n",
    "    days = abs(delta.days)\n",
    "    weeks = delta_days // 7\n",
    "\n",
    "    return delta_days, weeks, years, months, days\n"
   ]
  },
  {
   "cell_type": "code",
   "execution_count": 7,
   "id": "923f0ad0",
   "metadata": {},
   "outputs": [],
   "source": [
    "#additional date information\n",
    "def print_additional_info(date1, date2):\n",
    "    year1, year2 = date1.year, date2.year\n",
    "    leap_years = [year for year in range(min(year1, year2), max(year1, year2) + 1) if is_leap_year(year)]\n",
    "    print(f\"\\nLeap years between {year1} and {year2}: {leap_years if leap_years else 'None'}\")\n",
    "    print(f\"\\nDay of the week for {date1.strftime('%Y-%m-%d')}: {date1.strftime('%A')}\")\n",
    "    print(f\"Day of the week for {date2.strftime('%Y-%m-%d')}: {date2.strftime('%A')}\")\n"
   ]
  },
  {
   "cell_type": "code",
   "execution_count": 8,
   "id": "e6f9753a",
   "metadata": {},
   "outputs": [],
   "source": [
    "#main function\n",
    "def main():\n",
    "    # Input for the two dates\n",
    "    date1_str = input(\"Enter the first date (supported formats: YYYY-MM-DD, DD-MM-YYYY, MM/DD/YYYY, Month DD, YYYY): \")\n",
    "    date2_str = input(\"Enter the second date (supported formats: YYYY-MM-DD, DD-MM-YYYY, MM/DD/YYYY, Month DD, YYYY): \")\n",
    "\n",
    "    # Convert input strings to datetime objects\n",
    "    date1 = convert_to_date(date1_str)\n",
    "    date2 = convert_to_date(date2_str)\n",
    "\n",
    "    if not date1 or not date2:\n",
    "        print(\"One or both dates are invalid. Please use a supported date format.\")\n",
    "        return\n",
    "\n",
    "    # Calculate date difference\n",
    "    days, weeks, years, months, days_left = calculate_date_difference(date1, date2)\n",
    "\n",
    "    # Output the results\n",
    "    print(f\"\\nTime between {date1.strftime('%Y-%m-%d')} and {date2.strftime('%Y-%m-%d')}:\")\n",
    "    print(f\"  Total days: {days} days\")\n",
    "    print(f\"  Total weeks: {weeks} weeks\")\n",
    "    print(f\"  Years: {years} year(s), Months: {months} month(s), Days: {days_left} day(s)\")\n",
    "\n",
    "    # Print additional info like leap years and weekdays\n",
    "    print_additional_info(date1, date2)\n"
   ]
  },
  {
   "cell_type": "code",
   "execution_count": 10,
   "id": "fa1412c8",
   "metadata": {},
   "outputs": [
    {
     "name": "stdout",
     "output_type": "stream",
     "text": [
      "Enter the first date (supported formats: YYYY-MM-DD, DD-MM-YYYY, MM/DD/YYYY, Month DD, YYYY): 2023-02-01\n",
      "Enter the second date (supported formats: YYYY-MM-DD, DD-MM-YYYY, MM/DD/YYYY, Month DD, YYYY): 2024-10-06\n",
      "\n",
      "Time between 2023-02-01 and 2024-10-06:\n",
      "  Total days: 613 days\n",
      "  Total weeks: 87 weeks\n",
      "  Years: 1 year(s), Months: 8 month(s), Days: 5 day(s)\n",
      "\n",
      "Leap years between 2023 and 2024: [2024]\n",
      "\n",
      "Day of the week for 2023-02-01: Wednesday\n",
      "Day of the week for 2024-10-06: Sunday\n"
     ]
    }
   ],
   "source": [
    "if __name__ == \"__main__\":\n",
    "    main()\n"
   ]
  },
  {
   "cell_type": "code",
   "execution_count": null,
   "id": "c1201587",
   "metadata": {},
   "outputs": [],
   "source": []
  }
 ],
 "metadata": {
  "kernelspec": {
   "display_name": "Python 3 (ipykernel)",
   "language": "python",
   "name": "python3"
  },
  "language_info": {
   "codemirror_mode": {
    "name": "ipython",
    "version": 3
   },
   "file_extension": ".py",
   "mimetype": "text/x-python",
   "name": "python",
   "nbconvert_exporter": "python",
   "pygments_lexer": "ipython3",
   "version": "3.10.9"
  }
 },
 "nbformat": 4,
 "nbformat_minor": 5
}
